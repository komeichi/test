{
 "cells": [
  {
   "cell_type": "code",
   "execution_count": null,
   "metadata": {
    "collapsed": true
   },
   "outputs": [],
   "source": [
    "age = 10\n",
    "if age == 10:\n",
    "    print(\"What's the best way to speak to a monster?\")\n",
    "    print(\"From as far away as possible!\")\n",
    "    \n",
    "age = '10'\n",
    "if age == '10':\n",
    "    print(\"What's the best way to speak to a monster?\")\n",
    "    print(\"From as far away as possible!\")\n",
    "    \n",
    "age = '10'\n",
    "converted_age = int(age)\n",
    "if converted_age == 10:\n",
    "    print(\"What's the best way to speak to a monster?\")\n",
    "    print(\"From as far away as possible!\")"
   ]
  }
 ],
 "metadata": {
  "kernelspec": {
   "display_name": "Python 3",
   "language": "python",
   "name": "python3"
  },
  "language_info": {
   "codemirror_mode": {
    "name": "ipython",
    "version": 3
   },
   "file_extension": ".py",
   "mimetype": "text/x-python",
   "name": "python",
   "nbconvert_exporter": "python",
   "pygments_lexer": "ipython3",
   "version": "3.5.1"
  }
 },
 "nbformat": 4,
 "nbformat_minor": 0
}
