{
 "cells": [
  {
   "cell_type": "code",
   "execution_count": 1,
   "metadata": {
    "collapsed": false
   },
   "outputs": [
    {
     "name": "stdout",
     "output_type": "stream",
     "text": [
      "You are too old!\n",
      "Why are you here?\n",
      "Why aren't you mowing a lawn or sorting papers?\n",
      "Want to hear a dirty joke?\n",
      "A pig fell in the mud!\n"
     ]
    }
   ],
   "source": [
    "age = 25\n",
    "if age > 20:\n",
    "    print('You are too old!')\n",
    "    print('Why are you here?')\n",
    "    print('Why aren\\'t you mowing a lawn or sorting papers?')\n",
    "    \n",
    "print(\"Want to hear a dirty joke?\") \n",
    "age = 12\n",
    "if age == 12:\n",
    "    print(\"A pig fell in the mud!\")\n",
    "else:\n",
    "    print(\"Shh. It's a secret.\")"
   ]
  },
  {
   "cell_type": "code",
   "execution_count": null,
   "metadata": {
    "collapsed": true
   },
   "outputs": [],
   "source": []
  }
 ],
 "metadata": {
  "kernelspec": {
   "display_name": "Python 3",
   "language": "python",
   "name": "python3"
  },
  "language_info": {
   "codemirror_mode": {
    "name": "ipython",
    "version": 3
   },
   "file_extension": ".py",
   "mimetype": "text/x-python",
   "name": "python",
   "nbconvert_exporter": "python",
   "pygments_lexer": "ipython3",
   "version": "3.5.1"
  }
 },
 "nbformat": 4,
 "nbformat_minor": 0
}
