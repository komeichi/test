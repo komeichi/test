{
 "cells": [
  {
   "cell_type": "code",
   "execution_count": null,
   "metadata": {
    "collapsed": true
   },
   "outputs": [],
   "source": [
    "age = 12\n",
    "\n",
    "if age == 10 or age == 11 or age == 12 or age == 13:\n",
    "    print('What is 13 + 49 + 84 + 155 + 97? A headache!')\n",
    "else:\n",
    "    print('Huh?')\n",
    "    \n",
    "if age >= 10 and age <= 13:\n",
    "    print('What is 13 + 49 + 84 + 155 + 97? A headache!')\n",
    "else:\n",
    "    print('Huh?')"
   ]
  }
 ],
 "metadata": {
  "kernelspec": {
   "display_name": "Python 3",
   "language": "python",
   "name": "python3"
  },
  "language_info": {
   "codemirror_mode": {
    "name": "ipython",
    "version": 3
   },
   "file_extension": ".py",
   "mimetype": "text/x-python",
   "name": "python",
   "nbconvert_exporter": "python",
   "pygments_lexer": "ipython3",
   "version": "3.5.1"
  }
 },
 "nbformat": 4,
 "nbformat_minor": 0
}
