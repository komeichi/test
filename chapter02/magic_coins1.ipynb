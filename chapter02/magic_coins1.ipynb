{
 "cells": [
  {
   "cell_type": "code",
   "execution_count": 1,
   "metadata": {
    "collapsed": false
   },
   "outputs": [
    {
     "name": "stdout",
     "output_type": "stream",
     "text": [
      "3514\n",
      "3566\n",
      "4661\n"
     ]
    }
   ],
   "source": [
    "found_coins = 20\n",
    "magic_coins = 10\n",
    "stolen_coins = 3\n",
    "print(found_coins + magic_coins * 365 - stolen_coins * 52)\n",
    "stolen_coins = 2\n",
    "print(found_coins + magic_coins * 365 - stolen_coins * 52)\n",
    "magic_coins = 13\n",
    "print(found_coins + magic_coins * 365 - stolen_coins * 52)"
   ]
  },
  {
   "cell_type": "code",
   "execution_count": null,
   "metadata": {
    "collapsed": true
   },
   "outputs": [],
   "source": []
  }
 ],
 "metadata": {
  "kernelspec": {
   "display_name": "Python 3",
   "language": "python",
   "name": "python3"
  },
  "language_info": {
   "codemirror_mode": {
    "name": "ipython",
    "version": 3
   },
   "file_extension": ".py",
   "mimetype": "text/x-python",
   "name": "python",
   "nbconvert_exporter": "python",
   "pygments_lexer": "ipython3",
   "version": "3.5.1"
  }
 },
 "nbformat": 4,
 "nbformat_minor": 0
}
